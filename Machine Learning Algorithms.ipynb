{
 "cells": [
  {
   "cell_type": "code",
   "execution_count": 8,
   "metadata": {
    "collapsed": true
   },
   "outputs": [
    {
     "name": "stderr",
     "output_type": "stream",
     "text": [
      "Using TensorFlow backend.\n",
      "C:\\Users\\User\\AppData\\Local\\conda\\conda\\envs\\UserEnv\\lib\\site-packages\\tensorflow\\python\\framework\\dtypes.py:516: FutureWarning: Passing (type, 1) or '1type' as a synonym of type is deprecated; in a future version of numpy, it will be understood as (type, (1,)) / '(1,)type'.\n",
      "  _np_qint8 = np.dtype([(\"qint8\", np.int8, 1)])\n",
      "C:\\Users\\User\\AppData\\Local\\conda\\conda\\envs\\UserEnv\\lib\\site-packages\\tensorflow\\python\\framework\\dtypes.py:517: FutureWarning: Passing (type, 1) or '1type' as a synonym of type is deprecated; in a future version of numpy, it will be understood as (type, (1,)) / '(1,)type'.\n",
      "  _np_quint8 = np.dtype([(\"quint8\", np.uint8, 1)])\n",
      "C:\\Users\\User\\AppData\\Local\\conda\\conda\\envs\\UserEnv\\lib\\site-packages\\tensorflow\\python\\framework\\dtypes.py:518: FutureWarning: Passing (type, 1) or '1type' as a synonym of type is deprecated; in a future version of numpy, it will be understood as (type, (1,)) / '(1,)type'.\n",
      "  _np_qint16 = np.dtype([(\"qint16\", np.int16, 1)])\n",
      "C:\\Users\\User\\AppData\\Local\\conda\\conda\\envs\\UserEnv\\lib\\site-packages\\tensorflow\\python\\framework\\dtypes.py:519: FutureWarning: Passing (type, 1) or '1type' as a synonym of type is deprecated; in a future version of numpy, it will be understood as (type, (1,)) / '(1,)type'.\n",
      "  _np_quint16 = np.dtype([(\"quint16\", np.uint16, 1)])\n",
      "C:\\Users\\User\\AppData\\Local\\conda\\conda\\envs\\UserEnv\\lib\\site-packages\\tensorflow\\python\\framework\\dtypes.py:520: FutureWarning: Passing (type, 1) or '1type' as a synonym of type is deprecated; in a future version of numpy, it will be understood as (type, (1,)) / '(1,)type'.\n",
      "  _np_qint32 = np.dtype([(\"qint32\", np.int32, 1)])\n",
      "C:\\Users\\User\\AppData\\Local\\conda\\conda\\envs\\UserEnv\\lib\\site-packages\\tensorflow\\python\\framework\\dtypes.py:525: FutureWarning: Passing (type, 1) or '1type' as a synonym of type is deprecated; in a future version of numpy, it will be understood as (type, (1,)) / '(1,)type'.\n",
      "  np_resource = np.dtype([(\"resource\", np.ubyte, 1)])\n",
      "C:\\Users\\User\\AppData\\Local\\conda\\conda\\envs\\UserEnv\\lib\\site-packages\\tensorboard\\compat\\tensorflow_stub\\dtypes.py:541: FutureWarning: Passing (type, 1) or '1type' as a synonym of type is deprecated; in a future version of numpy, it will be understood as (type, (1,)) / '(1,)type'.\n",
      "  _np_qint8 = np.dtype([(\"qint8\", np.int8, 1)])\n",
      "C:\\Users\\User\\AppData\\Local\\conda\\conda\\envs\\UserEnv\\lib\\site-packages\\tensorboard\\compat\\tensorflow_stub\\dtypes.py:542: FutureWarning: Passing (type, 1) or '1type' as a synonym of type is deprecated; in a future version of numpy, it will be understood as (type, (1,)) / '(1,)type'.\n",
      "  _np_quint8 = np.dtype([(\"quint8\", np.uint8, 1)])\n",
      "C:\\Users\\User\\AppData\\Local\\conda\\conda\\envs\\UserEnv\\lib\\site-packages\\tensorboard\\compat\\tensorflow_stub\\dtypes.py:543: FutureWarning: Passing (type, 1) or '1type' as a synonym of type is deprecated; in a future version of numpy, it will be understood as (type, (1,)) / '(1,)type'.\n",
      "  _np_qint16 = np.dtype([(\"qint16\", np.int16, 1)])\n",
      "C:\\Users\\User\\AppData\\Local\\conda\\conda\\envs\\UserEnv\\lib\\site-packages\\tensorboard\\compat\\tensorflow_stub\\dtypes.py:544: FutureWarning: Passing (type, 1) or '1type' as a synonym of type is deprecated; in a future version of numpy, it will be understood as (type, (1,)) / '(1,)type'.\n",
      "  _np_quint16 = np.dtype([(\"quint16\", np.uint16, 1)])\n",
      "C:\\Users\\User\\AppData\\Local\\conda\\conda\\envs\\UserEnv\\lib\\site-packages\\tensorboard\\compat\\tensorflow_stub\\dtypes.py:545: FutureWarning: Passing (type, 1) or '1type' as a synonym of type is deprecated; in a future version of numpy, it will be understood as (type, (1,)) / '(1,)type'.\n",
      "  _np_qint32 = np.dtype([(\"qint32\", np.int32, 1)])\n",
      "C:\\Users\\User\\AppData\\Local\\conda\\conda\\envs\\UserEnv\\lib\\site-packages\\tensorboard\\compat\\tensorflow_stub\\dtypes.py:550: FutureWarning: Passing (type, 1) or '1type' as a synonym of type is deprecated; in a future version of numpy, it will be understood as (type, (1,)) / '(1,)type'.\n",
      "  np_resource = np.dtype([(\"resource\", np.ubyte, 1)])\n"
     ]
    }
   ],
   "source": [
    "import time\n",
    "import pandas as pd\n",
    "import numpy as np\n",
    "from matplotlib import pyplot as plt\n",
    "import os\n",
    "import math\n",
    "\n",
    "#import seaborn as sns\n",
    "from sklearn import preprocessing\n",
    "from sklearn.model_selection import train_test_split\n",
    "from sklearn.model_selection import KFold\n",
    "from sklearn.model_selection import cross_val_score\n",
    "from sklearn.model_selection import cross_val_predict\n",
    "\n",
    "from sklearn.ensemble import RandomForestClassifier\n",
    "from sklearn.model_selection import GridSearchCV, train_test_split\n",
    "\n",
    "from sklearn.svm import SVC\n",
    "from sklearn.metrics import classification_report,confusion_matrix\n",
    "from sklearn.tree import DecisionTreeClassifier\n",
    "\n",
    "import keras\n",
    "from keras.models import Sequential\n",
    "from keras.layers import Dense"
   ]
  },
  {
   "cell_type": "markdown",
   "metadata": {},
   "source": [
    "### Import Data File"
   ]
  },
  {
   "cell_type": "code",
   "execution_count": 9,
   "metadata": {
    "scrolled": true
   },
   "outputs": [],
   "source": [
    "df = pd.read_csv(\"Accepted.csv\")"
   ]
  },
  {
   "cell_type": "markdown",
   "metadata": {},
   "source": [
    "### Split Data into X and y"
   ]
  },
  {
   "cell_type": "code",
   "execution_count": 18,
   "metadata": {
    "scrolled": true
   },
   "outputs": [],
   "source": [
    "X = df.loc[:, df.columns != 'grade']\n",
    "y = df['grade']"
   ]
  },
  {
   "cell_type": "markdown",
   "metadata": {},
   "source": [
    "### Examining the class distribution into percentages"
   ]
  },
  {
   "cell_type": "code",
   "execution_count": 19,
   "metadata": {},
   "outputs": [
    {
     "data": {
      "image/png": "[encoded data removed]",
      "text/plain": [
       "<Figure size 576x432 with 1 Axes>"
      ]
     },
     "metadata": {
      "needs_background": "light"
     },
     "output_type": "display_data"
    }
   ],
   "source": [
    "x_class = df.groupby('grade')['grade'].count()/len(df)*100\n",
    "#df_community_area2 = df_community_area>0.5\n",
    "#df_community_area3 = df_community_area[df_community_area2]\n",
    "plt.rcParams[\"figure.figsize\"]=(8,6)\n",
    "x_class.sort_values(ascending=False, inplace = True)\n",
    "x_class.plot(kind='bar', title = 'Class Distribution')\n",
    "plt.xlabel('Class')\n",
    "plt.ylabel('Class percentage')\n",
    "plt.show()"
   ]
  },
  {
   "cell_type": "markdown",
   "metadata": {},
   "source": [
    "#### Since we have a very large dataset, we are just taking the 10% of the full data\n",
    "#### 10% of the full dataset will give us 160,000 rows"
   ]
  },
  {
   "cell_type": "code",
   "execution_count": 20,
   "metadata": {
    "scrolled": true
   },
   "outputs": [],
   "source": [
    "X1, X_test, y1, y_test = train_test_split(X,y,test_size=0.90, random_state=42, stratify=y)"
   ]
  },
  {
   "cell_type": "code",
   "execution_count": null,
   "metadata": {},
   "outputs": [],
   "source": []
  },
  {
   "cell_type": "code",
   "execution_count": null,
   "metadata": {
    "scrolled": true
   },
   "outputs": [],
   "source": []
  },
  {
   "cell_type": "code",
   "execution_count": 21,
   "metadata": {},
   "outputs": [
    {
     "data": {
      "text/plain": [
       "Index(['loan_amnt', 'term', 'int_rate', 'installment', 'emp_length',\n",
       "       'annual_inc', 'dti', 'delinq_2yrs', 'inq_last_6mths', 'pub_rec',\n",
       "       'revol_bal', 'total_pymnt', 'total_rec_int', 'total_rec_late_fee',\n",
       "       'recoveries', 'last_pymnt_amnt', 'collections_12_mths_ex_med',\n",
       "       'acc_now_delinq', 'tot_coll_amt', 'total_rev_hi_lim',\n",
       "       'acc_open_past_24mths', 'avg_cur_bal', 'bc_open_to_buy',\n",
       "       'mo_sin_old_il_acct', 'mo_sin_old_rev_tl_op', 'mort_acc',\n",
       "       'mths_since_recent_bc', 'mths_since_recent_inq',\n",
       "       'num_accts_ever_120_pd', 'num_actv_bc_tl', 'num_bc_tl', 'num_il_tl',\n",
       "       'num_op_rev_tl', 'num_rev_accts', 'num_rev_tl_bal_gt_0', 'num_sats',\n",
       "       'num_tl_120dpd_2m', 'pct_tl_nvr_dlq', 'percent_bc_gt_75',\n",
       "       'pub_rec_bankruptcies', 'tax_liens', 'tot_hi_cred_lim',\n",
       "       'total_il_high_credit_limit', 'home_ownership_MORTGAGE',\n",
       "       'home_ownership_NONE', 'home_ownership_OTHER', 'home_ownership_OWN',\n",
       "       'home_ownership_RENT', 'loan_status_Current', 'loan_status_Default',\n",
       "       'loan_status_Fully Paid', 'loan_status_In Grace Period',\n",
       "       'loan_status_Late (16-30 days)', 'loan_status_Late (31-120 days)',\n",
       "       'pymnt_plan_y', 'grade'],\n",
       "      dtype='object')"
      ]
     },
     "execution_count": 21,
     "metadata": {},
     "output_type": "execute_result"
    }
   ],
   "source": [
    "df2 = pd.concat([X1, y1], axis = 1)\n",
    "df2.shape\n",
    "df2.columns"
   ]
  },
  {
   "cell_type": "markdown",
   "metadata": {},
   "source": [
    "### Counting different grades"
   ]
  },
  {
   "cell_type": "code",
   "execution_count": 22,
   "metadata": {},
   "outputs": [
    {
     "name": "stdout",
     "output_type": "stream",
     "text": [
      "grade\n",
      "1    29501\n",
      "2    46468\n",
      "3    46627\n",
      "4    23110\n",
      "5     9865\n",
      "6     3105\n",
      "7      911\n",
      "Name: grade, dtype: int64\n"
     ]
    }
   ],
   "source": [
    "x1_class = df2.groupby('grade')['grade'].count()\n",
    "print(x1_class)"
   ]
  },
  {
   "cell_type": "code",
   "execution_count": null,
   "metadata": {},
   "outputs": [],
   "source": []
  },
  {
   "cell_type": "markdown",
   "metadata": {},
   "source": []
  },
  {
   "cell_type": "code",
   "execution_count": null,
   "metadata": {},
   "outputs": [],
   "source": []
  },
  {
   "cell_type": "code",
   "execution_count": null,
   "metadata": {},
   "outputs": [],
   "source": []
  },
  {
   "cell_type": "code",
   "execution_count": null,
   "metadata": {},
   "outputs": [],
   "source": []
  },
  {
   "cell_type": "code",
   "execution_count": null,
   "metadata": {},
   "outputs": [],
   "source": []
  },
  {
   "cell_type": "code",
   "execution_count": null,
   "metadata": {},
   "outputs": [],
   "source": []
  },
  {
   "cell_type": "code",
   "execution_count": null,
   "metadata": {
    "scrolled": false
   },
   "outputs": [],
   "source": []
  },
  {
   "cell_type": "code",
   "execution_count": null,
   "metadata": {
    "scrolled": true
   },
   "outputs": [],
   "source": []
  },
  {
   "cell_type": "code",
   "execution_count": null,
   "metadata": {},
   "outputs": [],
   "source": []
  },
  {
   "cell_type": "markdown",
   "metadata": {},
   "source": []
  },
  {
   "cell_type": "code",
   "execution_count": null,
   "metadata": {},
   "outputs": [],
   "source": []
  },
  {
   "cell_type": "code",
   "execution_count": null,
   "metadata": {},
   "outputs": [],
   "source": []
  },
  {
   "cell_type": "code",
   "execution_count": null,
   "metadata": {},
   "outputs": [],
   "source": []
  },
  {
   "cell_type": "markdown",
   "metadata": {},
   "source": [
    "### Separating columns into features and target columns"
   ]
  },
  {
   "cell_type": "code",
   "execution_count": 23,
   "metadata": {},
   "outputs": [],
   "source": [
    "X_new = df2.loc[:, df2.columns != 'grade']\n",
    "y_new = df2['grade']"
   ]
  },
  {
   "cell_type": "code",
   "execution_count": 24,
   "metadata": {},
   "outputs": [
    {
     "data": {
      "text/plain": [
       "(159587,)"
      ]
     },
     "execution_count": 24,
     "metadata": {},
     "output_type": "execute_result"
    }
   ],
   "source": [
    "X_new.shape\n",
    "y_new.shape"
   ]
  },
  {
   "cell_type": "markdown",
   "metadata": {},
   "source": [
    "### Dividing dataset into 70% train and 30% test sets. "
   ]
  },
  {
   "cell_type": "code",
   "execution_count": 25,
   "metadata": {},
   "outputs": [],
   "source": [
    "X_train_new, X_test_new, y_train_new, y_test_new = train_test_split(X_new,y_new,test_size=0.3, random_state=42, stratify=y_new)"
   ]
  },
  {
   "cell_type": "code",
   "execution_count": 26,
   "metadata": {},
   "outputs": [
    {
     "name": "stdout",
     "output_type": "stream",
     "text": [
      "X New Train Size : (111710, 55)\n",
      "y New Train Size : (111710,)\n",
      "X New Test Size : (47877, 55)\n",
      "y New Test Size : (47877,)\n"
     ]
    }
   ],
   "source": [
    "print(\"X New Train Size : {}\".format(X_train_new.shape))\n",
    "print(\"y New Train Size : {}\".format(y_train_new.shape))\n",
    "print(\"X New Test Size : {}\".format(X_test_new.shape))\n",
    "print(\"y New Test Size : {}\".format(y_test_new.shape))"
   ]
  },
  {
   "cell_type": "markdown",
   "metadata": {},
   "source": [
    "### Random Forest Classifier "
   ]
  },
  {
   "cell_type": "markdown",
   "metadata": {},
   "source": [
    "### Selecting parameters to be varied"
   ]
  },
  {
   "cell_type": "code",
   "execution_count": 28,
   "metadata": {},
   "outputs": [],
   "source": [
    "maxdepth_space = [10,12,14]\n",
    "n_estimator_space = [20,40,60]\n",
    "dict_params = {'criterion':['gini','entropy'], \n",
    "               'max_depth':maxdepth_space,  \"n_estimators\":n_estimator_space}"
   ]
  },
  {
   "cell_type": "markdown",
   "metadata": {},
   "source": [
    "### Applying Random Forest (RF) classifier"
   ]
  },
  {
   "cell_type": "code",
   "execution_count": 29,
   "metadata": {},
   "outputs": [
    {
     "name": "stdout",
     "output_type": "stream",
     "text": [
      "{'criterion': 'entropy', 'max_depth': 14, 'n_estimators': 40}\n"
     ]
    }
   ],
   "source": [
    "model = RandomForestClassifier()\n",
    "grid_cv = GridSearchCV(model, param_grid = dict_params, cv = 5)\n",
    "grid_cv.fit(X_train_new,y_train_new)\n",
    "test_acc = grid_cv.score(X_test_new, y_test_new)\n",
    "y_pred = grid_cv.predict(X_test_new)\n",
    "conf_mat = confusion_matrix(y_test_new, y_pred)\n",
    "clr = classification_report(y_test_new, y_pred)\n",
    "print(grid_cv.best_params_)"
   ]
  },
  {
   "cell_type": "code",
   "execution_count": null,
   "metadata": {},
   "outputs": [],
   "source": [
    "print(test_acc)\n",
    "print(conf_mat)\n",
    "print(clr)"
   ]
  },
  {
   "cell_type": "markdown",
   "metadata": {},
   "source": [
    "### Decision Tree"
   ]
  },
  {
   "cell_type": "markdown",
   "metadata": {},
   "source": [
    "### Selecting parameters to be varied for DCT"
   ]
  },
  {
   "cell_type": "code",
   "execution_count": 27,
   "metadata": {},
   "outputs": [
    {
     "data": {
      "text/plain": [
       "(47877, 55)"
      ]
     },
     "execution_count": 27,
     "metadata": {},
     "output_type": "execute_result"
    }
   ],
   "source": [
    "criterion = ['entropy']\n",
    "max_depth = [10,12,14,16,18,20]\n",
    "testacc = []\n",
    "dict_params = {'criterion':criterion, 'max_depth':max_depth}\n",
    "dep = []"
   ]
  },
  {
   "cell_type": "markdown",
   "metadata": {},
   "source": [
    "### Applying DCT classifier"
   ]
  },
  {
   "cell_type": "code",
   "execution_count": 28,
   "metadata": {},
   "outputs": [
    {
     "name": "stdout",
     "output_type": "stream",
     "text": [
      "{'criterion': 'entropy', 'max_depth': 18}\n"
     ]
    }
   ],
   "source": [
    "model_dtc = DecisionTreeClassifier()\n",
    "grid_cv_dtc = GridSearchCV(model_dtc, param_grid = dict_params, cv = 5)\n",
    "grid_cv_dtc.fit(X_train_new,y_train_new)\n",
    "test_acc_dtc = grid_cv_dtc.score(X_test_new, y_test_new)\n",
    "y_pred_dtc = grid_cv_dtc.predict(X_test_new)\n",
    "conf_mat_dtc = confusion_matrix(y_test_new, y_pred_dtc)\n",
    "clr_dtc = classification_report(y_test_new, y_pred_dtc)\n",
    "print(grid_cv_dtc.best_params_)"
   ]
  },
  {
   "cell_type": "markdown",
   "metadata": {},
   "source": [
    "### Plotting DCT classifier performance (accuracy) for different maximum depth size"
   ]
  },
  {
   "cell_type": "code",
   "execution_count": 409,
   "metadata": {},
   "outputs": [],
   "source": [
    "for i in max_depth:\n",
    "    dict_params = {'criterion':criterion, 'max_depth':max_depth}\n",
    "    model_dtc = DecisionTreeClassifier()\n",
    "    grid_cv_dtc = GridSearchCV(model_dtc, param_grid = dict_params, cv = 5)\n",
    "    grid_cv_dtc.fit(X_train_new,y_train_new)\n",
    "    test_acc_dtc = grid_cv_dtc.score(X_test_new, y_test_new)\n",
    "    #y_pred_dtc = grid_cv_dtc.predict(X_test_new)\n",
    "    testacc.append(test_acc_dtc)\n",
    "    dep.append(i)    "
   ]
  },
  {
   "cell_type": "code",
   "execution_count": null,
   "metadata": {},
   "outputs": [],
   "source": []
  },
  {
   "cell_type": "code",
   "execution_count": 420,
   "metadata": {},
   "outputs": [
    {
     "data": {
      "image/png": "[encoded data removed]",
      "text/plain": [
       "<Figure size 720x432 with 1 Axes>"
      ]
     },
     "metadata": {
      "needs_background": "light"
     },
     "output_type": "display_data"
    }
   ],
   "source": [
    "plt.plot(dep,testacc)\n",
    "plt.rcParams[\"figure.figsize\"]=(10,6)\n",
    "plt.ylabel('Accuracy', fontsize=20)\n",
    "plt.xlabel('Maximum Depth', fontsize=20)\n",
    "plt.xticks(fontsize = 14)\n",
    "plt.yticks(fontsize = 14)\n",
    "plt.title(\"Accuracy vs Maximum depth\", fontsize = 20)\n",
    "plt.show()\n"
   ]
  },
  {
   "cell_type": "code",
   "execution_count": null,
   "metadata": {},
   "outputs": [],
   "source": []
  },
  {
   "cell_type": "code",
   "execution_count": 204,
   "metadata": {},
   "outputs": [
    {
     "name": "stdout",
     "output_type": "stream",
     "text": [
      "0.9492031664473547\n",
      "[[ 8753    96     1     0     0     0     0]\n",
      " [   58 13507   376     0     0     0     0]\n",
      " [    1   228 13436   323     0     0     0]\n",
      " [    0     5   255  6176   497     0     0]\n",
      " [    0     0     2   385  2499    63    11]\n",
      " [    0     0     0     2    98   818    14]\n",
      " [    0     0     0     0     5    12   256]]\n",
      "              precision    recall  f1-score   support\n",
      "\n",
      "           1       0.99      0.99      0.99      8850\n",
      "           2       0.98      0.97      0.97     13941\n",
      "           3       0.95      0.96      0.96     13988\n",
      "           4       0.90      0.89      0.89      6933\n",
      "           5       0.81      0.84      0.82      2960\n",
      "           6       0.92      0.88      0.90       932\n",
      "           7       0.91      0.94      0.92       273\n",
      "\n",
      "    accuracy                           0.95     47877\n",
      "   macro avg       0.92      0.92      0.92     47877\n",
      "weighted avg       0.95      0.95      0.95     47877\n",
      "\n"
     ]
    }
   ],
   "source": [
    "print(test_acc_dtc)\n",
    "print(conf_mat_dtc)\n",
    "print(clr_dtc)"
   ]
  },
  {
   "cell_type": "code",
   "execution_count": null,
   "metadata": {},
   "outputs": [],
   "source": []
  },
  {
   "cell_type": "markdown",
   "metadata": {},
   "source": []
  },
  {
   "cell_type": "code",
   "execution_count": null,
   "metadata": {},
   "outputs": [],
   "source": []
  },
  {
   "cell_type": "code",
   "execution_count": null,
   "metadata": {},
   "outputs": [],
   "source": []
  },
  {
   "cell_type": "code",
   "execution_count": 423,
   "metadata": {},
   "outputs": [],
   "source": []
  },
  {
   "cell_type": "code",
   "execution_count": null,
   "metadata": {},
   "outputs": [],
   "source": []
  },
  {
   "cell_type": "code",
   "execution_count": 324,
   "metadata": {},
   "outputs": [],
   "source": []
  },
  {
   "cell_type": "code",
   "execution_count": null,
   "metadata": {},
   "outputs": [],
   "source": []
  },
  {
   "cell_type": "code",
   "execution_count": null,
   "metadata": {},
   "outputs": [],
   "source": []
  },
  {
   "cell_type": "code",
   "execution_count": null,
   "metadata": {},
   "outputs": [],
   "source": []
  },
  {
   "cell_type": "markdown",
   "metadata": {},
   "source": []
  },
  {
   "cell_type": "code",
   "execution_count": null,
   "metadata": {},
   "outputs": [],
   "source": []
  },
  {
   "cell_type": "code",
   "execution_count": null,
   "metadata": {},
   "outputs": [],
   "source": []
  },
  {
   "cell_type": "markdown",
   "metadata": {},
   "source": [
    "### KNN Classifier Before Scaling\n",
    "\n"
   ]
  },
  {
   "cell_type": "code",
   "execution_count": 64,
   "metadata": {},
   "outputs": [
    {
     "data": {
      "image/png": "[encoded data removed]",
      "text/plain": [
       "<Figure size 1440x720 with 1 Axes>"
      ]
     },
     "metadata": {
      "needs_background": "light"
     },
     "output_type": "display_data"
    }
   ],
   "source": [
    "#params={\"n_neighbors\": np.arange(1,40)}\n",
    "from sklearn.neighbors import KNeighborsClassifier\n",
    "neighbors = [2,4,6,8,10]\n",
    "train_accuracy = np.empty(len(neighbors))\n",
    "test_accuracy = np.empty(len(neighbors))\n",
    "\n",
    "# Loop over different values of k\n",
    "for i, k in enumerate(neighbors):\n",
    "    # Setup a k-NN Classifier with k neighbors: knn\n",
    "    knn_cv = KNeighborsClassifier(n_neighbors=k)\n",
    "\n",
    "    # Fit the classifier to the training data\n",
    "    #knn.fit(X_train_transformed,y_train)\n",
    "    #knn=KNeighborsClassifier()\n",
    "    #knn_cv=GridSearchCV(knn,params,cv=10)\n",
    "    knn_cv.fit(X_train_new,y_train_new)\n",
    "    \n",
    "    #Compute accuracy on the training set\n",
    "    train_accuracy[i] = knn_cv.score(X_train_new,y_train_new)\n",
    "\n",
    "    #Compute accuracy on the testing set\n",
    "    test_accuracy[i] = knn_cv.score(X_test_new,y_test_new)\n",
    "\n",
    "# Generate plot\n",
    "plt.title('k-NN: Varying Number of Neighbors')\n",
    "plt.plot(neighbors, test_accuracy, label = 'Testing Accuracy')\n",
    "plt.plot(neighbors, train_accuracy, label = 'Training Accuracy')\n",
    "plt.legend()\n",
    "plt.xlabel('Number of Neighbors')\n",
    "plt.ylabel('Accuracy')\n",
    "plt.show()\n"
   ]
  },
  {
   "cell_type": "code",
   "execution_count": null,
   "metadata": {},
   "outputs": [],
   "source": []
  },
  {
   "cell_type": "code",
   "execution_count": 65,
   "metadata": {},
   "outputs": [
    {
     "name": "stderr",
     "output_type": "stream",
     "text": [
      "C:\\Users\\Bipasha\\Anaconda3\\lib\\site-packages\\sklearn\\metrics\\classification.py:1439: UndefinedMetricWarning: Recall and F-score are ill-defined and being set to 0.0 in labels with no true samples.\n",
      "  'recall', 'true', average, warn_for)\n"
     ]
    }
   ],
   "source": [
    "conf_mat = confusion_matrix(y_test_new, y_pred)\n",
    "clr = classification_report(y_test_new, y_pred)"
   ]
  },
  {
   "cell_type": "code",
   "execution_count": 69,
   "metadata": {},
   "outputs": [
    {
     "name": "stdout",
     "output_type": "stream",
     "text": [
      "[0.63441053 0.56122997 0.51026766 0.48736013 0.47045922]\n"
     ]
    }
   ],
   "source": [
    "print(train_accuracy)"
   ]
  },
  {
   "cell_type": "code",
   "execution_count": 135,
   "metadata": {},
   "outputs": [
    {
     "name": "stdout",
     "output_type": "stream",
     "text": [
      "(159587, 69)\n",
      "(159587,)\n"
     ]
    }
   ],
   "source": [
    "print(X_new.shape)\n",
    "print(y_new.shape)"
   ]
  },
  {
   "cell_type": "markdown",
   "metadata": {},
   "source": [
    "### Normalizing data using min_max Scaler"
   ]
  },
  {
   "cell_type": "code",
   "execution_count": 556,
   "metadata": {},
   "outputs": [
    {
     "data": {
      "text/html": [
       "<div>\n",
       "<style scoped>\n",
       "    .dataframe tbody tr th:only-of-type {\n",
       "        vertical-align: middle;\n",
       "    }\n",
       "\n",
       "    .dataframe tbody tr th {\n",
       "        vertical-align: top;\n",
       "    }\n",
       "\n",
       "    .dataframe thead th {\n",
       "        text-align: right;\n",
       "    }\n",
       "</style>\n",
       "<table border=\"1\" class=\"dataframe\">\n",
       "  <thead>\n",
       "    <tr style=\"text-align: right;\">\n",
       "      <th></th>\n",
       "      <th>loan_amnt</th>\n",
       "      <th>term</th>\n",
       "      <th>int_rate</th>\n",
       "      <th>installment</th>\n",
       "      <th>emp_length</th>\n",
       "      <th>annual_inc</th>\n",
       "      <th>dti</th>\n",
       "      <th>delinq_2yrs</th>\n",
       "      <th>inq_last_6mths</th>\n",
       "      <th>pub_rec</th>\n",
       "      <th>...</th>\n",
       "      <th>home_ownership_OTHER</th>\n",
       "      <th>home_ownership_OWN</th>\n",
       "      <th>home_ownership_RENT</th>\n",
       "      <th>loan_status_Current</th>\n",
       "      <th>loan_status_Default</th>\n",
       "      <th>loan_status_Fully Paid</th>\n",
       "      <th>loan_status_In Grace Period</th>\n",
       "      <th>loan_status_Late (16-30 days)</th>\n",
       "      <th>loan_status_Late (31-120 days)</th>\n",
       "      <th>pymnt_plan_y</th>\n",
       "    </tr>\n",
       "  </thead>\n",
       "  <tbody>\n",
       "    <tr>\n",
       "      <td>922736</td>\n",
       "      <td>0.230769</td>\n",
       "      <td>0.0</td>\n",
       "      <td>0.221184</td>\n",
       "      <td>0.186441</td>\n",
       "      <td>0.222222</td>\n",
       "      <td>0.002419</td>\n",
       "      <td>0.293093</td>\n",
       "      <td>0.028571</td>\n",
       "      <td>0.000000</td>\n",
       "      <td>0.000000</td>\n",
       "      <td>...</td>\n",
       "      <td>0.0</td>\n",
       "      <td>0.0</td>\n",
       "      <td>0.0</td>\n",
       "      <td>0.0</td>\n",
       "      <td>0.0</td>\n",
       "      <td>1.0</td>\n",
       "      <td>0.0</td>\n",
       "      <td>0.0</td>\n",
       "      <td>0.0</td>\n",
       "      <td>0.0</td>\n",
       "    </tr>\n",
       "    <tr>\n",
       "      <td>63856</td>\n",
       "      <td>0.087179</td>\n",
       "      <td>0.0</td>\n",
       "      <td>0.312305</td>\n",
       "      <td>0.080041</td>\n",
       "      <td>0.000000</td>\n",
       "      <td>0.003990</td>\n",
       "      <td>0.227628</td>\n",
       "      <td>0.000000</td>\n",
       "      <td>0.000000</td>\n",
       "      <td>0.000000</td>\n",
       "      <td>...</td>\n",
       "      <td>0.0</td>\n",
       "      <td>0.0</td>\n",
       "      <td>1.0</td>\n",
       "      <td>0.0</td>\n",
       "      <td>0.0</td>\n",
       "      <td>1.0</td>\n",
       "      <td>0.0</td>\n",
       "      <td>0.0</td>\n",
       "      <td>0.0</td>\n",
       "      <td>0.0</td>\n",
       "    </tr>\n",
       "    <tr>\n",
       "      <td>1467804</td>\n",
       "      <td>0.084615</td>\n",
       "      <td>0.0</td>\n",
       "      <td>0.000389</td>\n",
       "      <td>0.068434</td>\n",
       "      <td>0.111111</td>\n",
       "      <td>0.005247</td>\n",
       "      <td>0.283483</td>\n",
       "      <td>0.000000</td>\n",
       "      <td>0.166667</td>\n",
       "      <td>0.000000</td>\n",
       "      <td>...</td>\n",
       "      <td>0.0</td>\n",
       "      <td>1.0</td>\n",
       "      <td>0.0</td>\n",
       "      <td>0.0</td>\n",
       "      <td>0.0</td>\n",
       "      <td>1.0</td>\n",
       "      <td>0.0</td>\n",
       "      <td>0.0</td>\n",
       "      <td>0.0</td>\n",
       "      <td>0.0</td>\n",
       "    </tr>\n",
       "    <tr>\n",
       "      <td>1298977</td>\n",
       "      <td>0.692308</td>\n",
       "      <td>1.0</td>\n",
       "      <td>0.584112</td>\n",
       "      <td>0.436562</td>\n",
       "      <td>0.111111</td>\n",
       "      <td>0.008703</td>\n",
       "      <td>0.355756</td>\n",
       "      <td>0.000000</td>\n",
       "      <td>0.166667</td>\n",
       "      <td>0.035714</td>\n",
       "      <td>...</td>\n",
       "      <td>0.0</td>\n",
       "      <td>0.0</td>\n",
       "      <td>1.0</td>\n",
       "      <td>0.0</td>\n",
       "      <td>0.0</td>\n",
       "      <td>0.0</td>\n",
       "      <td>0.0</td>\n",
       "      <td>0.0</td>\n",
       "      <td>0.0</td>\n",
       "      <td>0.0</td>\n",
       "    </tr>\n",
       "    <tr>\n",
       "      <td>1491552</td>\n",
       "      <td>0.743590</td>\n",
       "      <td>0.0</td>\n",
       "      <td>0.079439</td>\n",
       "      <td>0.546588</td>\n",
       "      <td>0.333333</td>\n",
       "      <td>0.008180</td>\n",
       "      <td>0.533133</td>\n",
       "      <td>0.000000</td>\n",
       "      <td>0.000000</td>\n",
       "      <td>0.000000</td>\n",
       "      <td>...</td>\n",
       "      <td>0.0</td>\n",
       "      <td>0.0</td>\n",
       "      <td>1.0</td>\n",
       "      <td>1.0</td>\n",
       "      <td>0.0</td>\n",
       "      <td>0.0</td>\n",
       "      <td>0.0</td>\n",
       "      <td>0.0</td>\n",
       "      <td>0.0</td>\n",
       "      <td>0.0</td>\n",
       "    </tr>\n",
       "    <tr>\n",
       "      <td>219367</td>\n",
       "      <td>0.179487</td>\n",
       "      <td>0.0</td>\n",
       "      <td>0.242212</td>\n",
       "      <td>0.148618</td>\n",
       "      <td>1.000000</td>\n",
       "      <td>0.004828</td>\n",
       "      <td>0.124725</td>\n",
       "      <td>0.000000</td>\n",
       "      <td>0.166667</td>\n",
       "      <td>0.000000</td>\n",
       "      <td>...</td>\n",
       "      <td>0.0</td>\n",
       "      <td>0.0</td>\n",
       "      <td>1.0</td>\n",
       "      <td>0.0</td>\n",
       "      <td>0.0</td>\n",
       "      <td>1.0</td>\n",
       "      <td>0.0</td>\n",
       "      <td>0.0</td>\n",
       "      <td>0.0</td>\n",
       "      <td>0.0</td>\n",
       "    </tr>\n",
       "  </tbody>\n",
       "</table>\n",
       "<p>6 rows × 55 columns</p>\n",
       "</div>"
      ],
      "text/plain": [
       "         loan_amnt  term  int_rate  installment  emp_length  annual_inc  \\\n",
       "922736    0.230769   0.0  0.221184     0.186441    0.222222    0.002419   \n",
       "63856     0.087179   0.0  0.312305     0.080041    0.000000    0.003990   \n",
       "1467804   0.084615   0.0  0.000389     0.068434    0.111111    0.005247   \n",
       "1298977   0.692308   1.0  0.584112     0.436562    0.111111    0.008703   \n",
       "1491552   0.743590   0.0  0.079439     0.546588    0.333333    0.008180   \n",
       "219367    0.179487   0.0  0.242212     0.148618    1.000000    0.004828   \n",
       "\n",
       "              dti  delinq_2yrs  inq_last_6mths   pub_rec  ...  \\\n",
       "922736   0.293093     0.028571        0.000000  0.000000  ...   \n",
       "63856    0.227628     0.000000        0.000000  0.000000  ...   \n",
       "1467804  0.283483     0.000000        0.166667  0.000000  ...   \n",
       "1298977  0.355756     0.000000        0.166667  0.035714  ...   \n",
       "1491552  0.533133     0.000000        0.000000  0.000000  ...   \n",
       "219367   0.124725     0.000000        0.166667  0.000000  ...   \n",
       "\n",
       "         home_ownership_OTHER  home_ownership_OWN  home_ownership_RENT  \\\n",
       "922736                    0.0                 0.0                  0.0   \n",
       "63856                     0.0                 0.0                  1.0   \n",
       "1467804                   0.0                 1.0                  0.0   \n",
       "1298977                   0.0                 0.0                  1.0   \n",
       "1491552                   0.0                 0.0                  1.0   \n",
       "219367                    0.0                 0.0                  1.0   \n",
       "\n",
       "         loan_status_Current  loan_status_Default  loan_status_Fully Paid  \\\n",
       "922736                   0.0                  0.0                     1.0   \n",
       "63856                    0.0                  0.0                     1.0   \n",
       "1467804                  0.0                  0.0                     1.0   \n",
       "1298977                  0.0                  0.0                     0.0   \n",
       "1491552                  1.0                  0.0                     0.0   \n",
       "219367                   0.0                  0.0                     1.0   \n",
       "\n",
       "         loan_status_In Grace Period  loan_status_Late (16-30 days)  \\\n",
       "922736                           0.0                            0.0   \n",
       "63856                            0.0                            0.0   \n",
       "1467804                          0.0                            0.0   \n",
       "1298977                          0.0                            0.0   \n",
       "1491552                          0.0                            0.0   \n",
       "219367                           0.0                            0.0   \n",
       "\n",
       "         loan_status_Late (31-120 days)  pymnt_plan_y  \n",
       "922736                              0.0           0.0  \n",
       "63856                               0.0           0.0  \n",
       "1467804                             0.0           0.0  \n",
       "1298977                             0.0           0.0  \n",
       "1491552                             0.0           0.0  \n",
       "219367                              0.0           0.0  \n",
       "\n",
       "[6 rows x 55 columns]"
      ]
     },
     "execution_count": 556,
     "metadata": {},
     "output_type": "execute_result"
    }
   ],
   "source": [
    "\n",
    "from sklearn import preprocessing\n",
    "scaler = preprocessing.MinMaxScaler()\n",
    "scaler.fit(X_new)\n",
    "X_new = pd.DataFrame(scaler.transform(X_new), index=X_new.index, columns=X_new.columns)\n",
    "X_new.iloc[4:10]"
   ]
  },
  {
   "cell_type": "code",
   "execution_count": 557,
   "metadata": {},
   "outputs": [
    {
     "name": "stdout",
     "output_type": "stream",
     "text": [
      "(159587, 55)\n",
      "(159587,)\n"
     ]
    }
   ],
   "source": [
    "print(X_new.shape)\n",
    "print(y_new.shape)"
   ]
  },
  {
   "cell_type": "markdown",
   "metadata": {},
   "source": [
    "### Splitting Normalized Data into train & Test set"
   ]
  },
  {
   "cell_type": "code",
   "execution_count": 558,
   "metadata": {},
   "outputs": [],
   "source": [
    "Xs_train, Xs_test, ys_train, ys_test= train_test_split(X_new, y_new, test_size=0.3, random_state=42,stratify=y_new)"
   ]
  },
  {
   "cell_type": "code",
   "execution_count": 476,
   "metadata": {},
   "outputs": [
    {
     "name": "stdout",
     "output_type": "stream",
     "text": [
      "(111710, 55)\n",
      "(111710,)\n",
      "(47877, 55)\n",
      "(47877,)\n"
     ]
    }
   ],
   "source": [
    "print(Xs_train.shape)\n",
    "print(ys_train.shape)\n",
    "print(Xs_test.shape)\n",
    "print(ys_test.shape)"
   ]
  },
  {
   "cell_type": "markdown",
   "metadata": {},
   "source": [
    "### Applying KNN algorithm"
   ]
  },
  {
   "cell_type": "code",
   "execution_count": 140,
   "metadata": {},
   "outputs": [
    {
     "name": "stdout",
     "output_type": "stream",
     "text": [
      "{'n_neighbors': 1}\n"
     ]
    }
   ],
   "source": [
    "from sklearn.neighbors import KNeighborsClassifier\n",
    "params={\"n_neighbors\": np.arange(1,10)}\n",
    "model = KNeighborsClassifier()\n",
    "grid_cv = GridSearchCV(model, param_grid = params, cv = 5)\n",
    "grid_cv.fit(Xs_train,ys_train)\n",
    "test_acc = grid_cv.score(Xs_test, ys_test)\n",
    "y_pred = grid_cv.predict(Xs_test)\n",
    "conf_mat = confusion_matrix(ys_test, y_pred)\n",
    "clr = classification_report(ys_test, y_pred)\n",
    "print(grid_cv.best_params_)"
   ]
  },
  {
   "cell_type": "code",
   "execution_count": 141,
   "metadata": {},
   "outputs": [
    {
     "name": "stdout",
     "output_type": "stream",
     "text": [
      "0.817741295402803\n",
      "[[ 7755  1052    39     5     0]\n",
      " [  615 11970  1306    43     7]\n",
      " [   20  1460 11670   792    46]\n",
      " [    1    46  1606  4782   498]\n",
      " [    0     8    99  1083  2974]]\n",
      "              precision    recall  f1-score   support\n",
      "\n",
      "           1       0.92      0.88      0.90      8851\n",
      "           2       0.82      0.86      0.84     13941\n",
      "           3       0.79      0.83      0.81     13988\n",
      "           4       0.71      0.69      0.70      6933\n",
      "           5       0.84      0.71      0.77      4164\n",
      "\n",
      "    accuracy                           0.82     47877\n",
      "   macro avg       0.82      0.79      0.81     47877\n",
      "weighted avg       0.82      0.82      0.82     47877\n",
      "\n"
     ]
    }
   ],
   "source": [
    "print(test_acc)\n",
    "print(conf_mat)\n",
    "print(clr)"
   ]
  },
  {
   "cell_type": "markdown",
   "metadata": {},
   "source": [
    "### Deep Neural Net (DNN)"
   ]
  },
  {
   "cell_type": "code",
   "execution_count": 688,
   "metadata": {},
   "outputs": [],
   "source": [
    "dummy_columns = [\"grade\"]\n",
    "y_train_new_NN = pd.get_dummies(ys_train, columns=dummy_columns)\n",
    "y_test_new_NN = pd.get_dummies(ys_test, columns=dummy_columns)\n",
    "#y_train_new_NN = pd.get_dummies(y_resampled, columns=dummy_columns)"
   ]
  },
  {
   "cell_type": "code",
   "execution_count": 689,
   "metadata": {},
   "outputs": [
    {
     "name": "stdout",
     "output_type": "stream",
     "text": [
      "(111710, 7)\n",
      "(47877, 7)\n"
     ]
    }
   ],
   "source": [
    "print(y_train_new_NN.shape)\n",
    "print(y_test_new_NN.shape)"
   ]
  },
  {
   "cell_type": "markdown",
   "metadata": {},
   "source": [
    "### DNN Model"
   ]
  },
  {
   "cell_type": "code",
   "execution_count": 690,
   "metadata": {},
   "outputs": [
    {
     "name": "stdout",
     "output_type": "stream",
     "text": [
      "_________________________________________________________________\n",
      "Layer (type)                 Output Shape              Param #   \n",
      "=================================================================\n",
      "dense_34 (Dense)             (None, 5)                 280       \n",
      "_________________________________________________________________\n",
      "dense_35 (Dense)             (None, 5)                 30        \n",
      "_________________________________________________________________\n",
      "dense_36 (Dense)             (None, 7)                 42        \n",
      "=================================================================\n",
      "Total params: 352\n",
      "Trainable params: 352\n",
      "Non-trainable params: 0\n",
      "_________________________________________________________________\n"
     ]
    }
   ],
   "source": [
    "model = Sequential()\n",
    "model.add(Dense(5, input_shape = (55,), activation = 'relu'))\n",
    "model.add(Dense(5, activation = 'relu'))\n",
    "#model.add(Dense(10, activation = 'relu'))\n",
    "model.add(Dense(7, activation = 'softmax'))\n",
    "model.summary()"
   ]
  },
  {
   "cell_type": "markdown",
   "metadata": {},
   "source": [
    "### Training the DNN"
   ]
  },
  {
   "cell_type": "code",
   "execution_count": 691,
   "metadata": {},
   "outputs": [
    {
     "name": "stdout",
     "output_type": "stream",
     "text": [
      "Train on 78197 samples, validate on 33513 samples\n",
      "Epoch 1/10\n",
      "78197/78197 [==============================] - 4s 55us/step - loss: 0.9423 - acc: 0.6505 - val_loss: 0.5113 - val_acc: 0.8126\n",
      "Epoch 2/10\n",
      "78197/78197 [==============================] - 4s 46us/step - loss: 0.4187 - acc: 0.8402 - val_loss: 0.3681 - val_acc: 0.8520\n",
      "Epoch 3/10\n",
      "78197/78197 [==============================] - 4s 45us/step - loss: 0.3529 - acc: 0.8547 - val_loss: 0.3387 - val_acc: 0.8586\n",
      "Epoch 4/10\n",
      "78197/78197 [==============================] - 3s 43us/step - loss: 0.3323 - acc: 0.8585 - val_loss: 0.3306 - val_acc: 0.8529\n",
      "Epoch 5/10\n",
      "78197/78197 [==============================] - 3s 44us/step - loss: 0.3227 - acc: 0.8617 - val_loss: 0.3216 - val_acc: 0.8646\n",
      "Epoch 6/10\n",
      "78197/78197 [==============================] - 3s 42us/step - loss: 0.3176 - acc: 0.8627 - val_loss: 0.3166 - val_acc: 0.8621\n",
      "Epoch 7/10\n",
      "78197/78197 [==============================] - 3s 44us/step - loss: 0.3142 - acc: 0.8644 - val_loss: 0.3127 - val_acc: 0.8615\n",
      "Epoch 8/10\n",
      "78197/78197 [==============================] - 3s 44us/step - loss: 0.3112 - acc: 0.8658 - val_loss: 0.3105 - val_acc: 0.8696\n",
      "Epoch 9/10\n",
      "78197/78197 [==============================] - 3s 41us/step - loss: 0.3093 - acc: 0.8654 - val_loss: 0.3059 - val_acc: 0.8686\n",
      "Epoch 10/10\n",
      "78197/78197 [==============================] - 4s 50us/step - loss: 0.3076 - acc: 0.8666 - val_loss: 0.3103 - val_acc: 0.8633\n"
     ]
    }
   ],
   "source": [
    "history = model.compile(loss='categorical_crossentropy', \n",
    "             optimizer = 'adam',\n",
    "             metrics = [\"accuracy\"])\n",
    "             #metrics = {'output_a': 'accuracy', 'output_b': 'f1'})\n",
    "history = model.fit(Xs_train, y_train_new_NN, epochs=10, validation_split = 0.3, batch_size=32)\n"
   ]
  },
  {
   "cell_type": "markdown",
   "metadata": {},
   "source": [
    "### Plotting accuracy of DNN for different epochs"
   ]
  },
  {
   "cell_type": "code",
   "execution_count": 692,
   "metadata": {},
   "outputs": [
    {
     "data": {
      "image/png": "[encoded data removed]",
      "text/plain": [
       "<Figure size 1440x720 with 1 Axes>"
      ]
     },
     "metadata": {
      "needs_background": "light"
     },
     "output_type": "display_data"
    }
   ],
   "source": [
    "plt.plot(history.history['acc'])\n",
    "plt.plot(history.history['val_acc'])\n",
    "plt.title('Accuracy vs Epochs', fontsize = 20)\n",
    "plt.ylabel('Accuracy', fontsize = 20)\n",
    "plt.xlabel('Epoch', fontsize = 20)\n",
    "plt.legend(['train', 'validation'], loc='lower right')\n",
    "plt.xticks(fontsize = 18)\n",
    "plt.yticks(fontsize = 18)\n",
    "plt.ylim(0,1)\n",
    "plt.show()"
   ]
  },
  {
   "cell_type": "markdown",
   "metadata": {},
   "source": [
    "### Plot loss for different epochs"
   ]
  },
  {
   "cell_type": "code",
   "execution_count": 693,
   "metadata": {},
   "outputs": [
    {
     "data": {
      "image/png": "[encoded data removed]",
      "text/plain": [
       "<Figure size 1440x720 with 1 Axes>"
      ]
     },
     "metadata": {
      "needs_background": "light"
     },
     "output_type": "display_data"
    }
   ],
   "source": [
    "plt.plot(history.history['loss'])\n",
    "plt.plot(history.history['val_loss'])\n",
    "plt.title('Loss vs Epochs',fontsize = 20)\n",
    "plt.ylabel('Loss', fontsize = 20)\n",
    "plt.xlabel('Epoch', fontsize = 20)\n",
    "plt.legend(['train', 'validation'], loc='lower right')\n",
    "plt.xticks(fontsize = 18)\n",
    "plt.yticks(fontsize = 18)\n",
    "plt.ylim(0,1)\n",
    "plt.show()"
   ]
  },
  {
   "cell_type": "markdown",
   "metadata": {},
   "source": [
    "### Evaluating the DNN model"
   ]
  },
  {
   "cell_type": "code",
   "execution_count": 694,
   "metadata": {},
   "outputs": [
    {
     "name": "stdout",
     "output_type": "stream",
     "text": [
      "47877/47877 [==============================] - 1s 18us/step\n"
     ]
    },
    {
     "data": {
      "text/plain": [
       "[0.3099154768692988, 0.8648829291739166]"
      ]
     },
     "execution_count": 694,
     "metadata": {},
     "output_type": "execute_result"
    }
   ],
   "source": [
    "model.evaluate(Xs_test, y_test_new_NN)"
   ]
  },
  {
   "cell_type": "code",
   "execution_count": null,
   "metadata": {},
   "outputs": [],
   "source": []
  },
  {
   "cell_type": "markdown",
   "metadata": {},
   "source": [
    "### Converting target data from dummy values (one hot) to numerical value"
   ]
  },
  {
   "cell_type": "code",
   "execution_count": 695,
   "metadata": {},
   "outputs": [
    {
     "name": "stdout",
     "output_type": "stream",
     "text": [
      "(47877, 7)\n",
      "(47877,)\n"
     ]
    }
   ],
   "source": [
    "pr = model.predict(Xs_test)\n",
    "print(pr.shape)\n",
    "pr2 = np.argmax(pr, axis = 1)\n",
    "print(pr2.shape)\n",
    "classes2 = np.unique(ys_test)\n",
    "print(classes2)\n",
    "predicted_class2 = [classes2[p] for p in pr2]\n",
    "#print(predicted_class2)\n",
    "\n",
    "\n",
    "\n",
    "print(clr)\n",
    "print(conf_mat)"
   ]
  },
  {
   "cell_type": "markdown",
   "metadata": {},
   "source": [
    "### Finding the confusion matrix and classification report"
   ]
  },
  {
   "cell_type": "code",
   "execution_count": 696,
   "metadata": {},
   "outputs": [
    {
     "name": "stdout",
     "output_type": "stream",
     "text": [
      "[1 2 3 4 5 6 7]\n"
     ]
    }
   ],
   "source": [
    "conf_mat = confusion_matrix(ys_test, predicted_class2)\n",
    "clr = classification_report(ys_test, predicted_class2)\n",
    "print(clr)"
   ]
  },
  {
   "cell_type": "code",
   "execution_count": null,
   "metadata": {},
   "outputs": [],
   "source": []
  },
  {
   "cell_type": "markdown",
   "metadata": {},
   "source": [
    "### Logistic Regression (LR) from Scratch"
   ]
  },
  {
   "cell_type": "markdown",
   "metadata": {},
   "source": [
    "### Applying oversamling to the train set using SMOTE"
   ]
  },
  {
   "cell_type": "code",
   "execution_count": 569,
   "metadata": {},
   "outputs": [],
   "source": [
    "from imblearn.over_sampling import SMOTE\n",
    "sm = SMOTE(kind='borderline1')\n",
    "X_resampled, y_resampled = sm.fit_sample(Xs_train, ys_train)"
   ]
  },
  {
   "cell_type": "code",
   "execution_count": 615,
   "metadata": {},
   "outputs": [
    {
     "name": "stdout",
     "output_type": "stream",
     "text": [
      "        0\n",
      "0       3\n",
      "1       5\n",
      "2       7\n",
      "3       3\n",
      "4       3\n",
      "...    ..\n",
      "228468  7\n",
      "228469  7\n",
      "228470  7\n",
      "228471  7\n",
      "228472  7\n",
      "\n",
      "[228473 rows x 1 columns]\n"
     ]
    }
   ],
   "source": [
    "ydf = pd.DataFrame(y_resampled)\n",
    "print(ydf)"
   ]
  },
  {
   "cell_type": "code",
   "execution_count": 618,
   "metadata": {},
   "outputs": [
    {
     "name": "stdout",
     "output_type": "stream",
     "text": [
      "        grd\n",
      "0         3\n",
      "1         5\n",
      "2         7\n",
      "3         3\n",
      "4         3\n",
      "...     ...\n",
      "228468    7\n",
      "228469    7\n",
      "228470    7\n",
      "228471    7\n",
      "228472    7\n",
      "\n",
      "[228473 rows x 1 columns]\n"
     ]
    }
   ],
   "source": [
    "df = pd.DataFrame({'grd': y_resampled})\n",
    "print(df)"
   ]
  },
  {
   "cell_type": "markdown",
   "metadata": {},
   "source": [
    "### Classdistribution of the newly oversampled data"
   ]
  },
  {
   "cell_type": "code",
   "execution_count": 619,
   "metadata": {},
   "outputs": [
    {
     "data": {
      "image/png": "[encoded data removed]",
      "text/plain": [
       "<Figure size 1440x720 with 1 Axes>"
      ]
     },
     "metadata": {
      "needs_background": "light"
     },
     "output_type": "display_data"
    }
   ],
   "source": [
    "new_class_distribution = df.groupby('grd')['grd'].count()\n",
    "#df_community_area2 = df_community_area>0.5\n",
    "#df_community_area3 = df_community_area[df_community_area2]\n",
    "plt.rcParams[\"figure.figsize\"]=(20,10)\n",
    "new_class_distribution.sort_values(ascending=False, inplace = True)\n",
    "new_class_distribution.plot(kind='bar', title = 'Class Distribution')\n",
    "plt.xlabel('Class')\n",
    "plt.ylabel('Counts')\n",
    "plt.show()"
   ]
  },
  {
   "cell_type": "code",
   "execution_count": null,
   "metadata": {},
   "outputs": [],
   "source": []
  },
  {
   "cell_type": "code",
   "execution_count": null,
   "metadata": {},
   "outputs": [],
   "source": []
  },
  {
   "cell_type": "code",
   "execution_count": 612,
   "metadata": {},
   "outputs": [
    {
     "data": {
      "text/plain": [
       "array([1, 2, 3, 4, 5, 6, 7], dtype=int64)"
      ]
     },
     "execution_count": 612,
     "metadata": {},
     "output_type": "execute_result"
    }
   ],
   "source": [
    "np.unique(y_resampled)"
   ]
  },
  {
   "cell_type": "markdown",
   "metadata": {},
   "source": [
    "### We have broken down our logistic regression algorithm into 4 different functions"
   ]
  },
  {
   "cell_type": "markdown",
   "metadata": {},
   "source": [
    "### Function 1: sigmoid"
   ]
  },
  {
   "cell_type": "code",
   "execution_count": 573,
   "metadata": {},
   "outputs": [],
   "source": [
    "def sigmoid(z):\n",
    "    return 1/(1 + np.exp(-z))"
   ]
  },
  {
   "cell_type": "markdown",
   "metadata": {},
   "source": [
    "### Function 2: cost"
   ]
  },
  {
   "cell_type": "code",
   "execution_count": 574,
   "metadata": {},
   "outputs": [],
   "source": []
  },
  {
   "cell_type": "code",
   "execution_count": null,
   "metadata": {},
   "outputs": [],
   "source": []
  },
  {
   "cell_type": "code",
   "execution_count": 575,
   "metadata": {},
   "outputs": [],
   "source": [
    "def cost(theta, X, y):\n",
    "    h = sigmoid(X @ theta)\n",
    "    m = len(y)\n",
    "    cost = 1 / m * np.sum(\n",
    "        -y * np.log(h) - (1 - y) * np.log(1 - h)\n",
    "    )\n",
    "    grad = 1 / m * ((y - h) @ X)\n",
    "    return cost, grad"
   ]
  },
  {
   "cell_type": "markdown",
   "metadata": {},
   "source": [
    "### Function 3: fit"
   ]
  },
  {
   "cell_type": "code",
   "execution_count": 599,
   "metadata": {},
   "outputs": [],
   "source": [
    "def fit(x, y, max_iter=30000, alpha=0.1):\n",
    "    #x = x.to_numpy()\n",
    "    #x = np.insert(x, 0, 1, axis=1)\n",
    "    thetas = []\n",
    "    classes = np.unique(y)\n",
    "    costs = np.zeros(max_iter)\n",
    "\n",
    "    for c in classes:\n",
    "        # one vs. rest binary classification\n",
    "        binary_y = np.where(y == c, 1, 0)\n",
    "        \n",
    "        theta = np.zeros(x.shape[1])\n",
    "        for epoch in range(max_iter):\n",
    "            costs[epoch], grad = cost(theta, x, binary_y)\n",
    "            theta += alpha * grad\n",
    "            \n",
    "        thetas.append(theta)\n",
    "    return thetas, classes, costs"
   ]
  },
  {
   "cell_type": "markdown",
   "metadata": {},
   "source": [
    "### Training the logistic regression"
   ]
  },
  {
   "cell_type": "code",
   "execution_count": null,
   "metadata": {},
   "outputs": [],
   "source": [
    "#Xs_train = np.insert(Xs_train, 0, 1, axis=1)\n",
    "thetas, classes, costs = fit(X_resampled, y_resampled)"
   ]
  },
  {
   "cell_type": "markdown",
   "metadata": {},
   "source": [
    "### Plotting loss vs number of iteration"
   ]
  },
  {
   "cell_type": "code",
   "execution_count": 600,
   "metadata": {},
   "outputs": [
    {
     "data": {
      "text/plain": [
       "[<matplotlib.lines.Line2D at 0x1bd383f7788>]"
      ]
     },
     "execution_count": 600,
     "metadata": {},
     "output_type": "execute_result"
    },
    {
     "data": {
      "image/png": "[encoded data removed]",
      "text/plain": [
       "<Figure size 1440x720 with 1 Axes>"
      ]
     },
     "metadata": {
      "needs_background": "light"
     },
     "output_type": "display_data"
    }
   ],
   "source": [
    "plot(costs)"
   ]
  },
  {
   "cell_type": "code",
   "execution_count": null,
   "metadata": {},
   "outputs": [],
   "source": []
  },
  {
   "cell_type": "code",
   "execution_count": null,
   "metadata": {},
   "outputs": [],
   "source": []
  },
  {
   "cell_type": "code",
   "execution_count": 601,
   "metadata": {},
   "outputs": [
    {
     "name": "stdout",
     "output_type": "stream",
     "text": [
      "(228473, 55)\n"
     ]
    }
   ],
   "source": []
  },
  {
   "cell_type": "markdown",
   "metadata": {},
   "source": [
    "### Function 4: predict"
   ]
  },
  {
   "cell_type": "code",
   "execution_count": 602,
   "metadata": {},
   "outputs": [],
   "source": [
    "def predict(thetas, classes, X):\n",
    "    X = X.to_numpy()\n",
    "    #X = np.insert(X, 0, 1, axis=1)\n",
    "    preds = []\n",
    "    for x1 in X:\n",
    "        sigm = []\n",
    "        for theta in thetas:\n",
    "            z = np.matmul(x1, theta)\n",
    "            new_sigmoid = sigmoid(z)\n",
    "            sigm.append(new_sigmoid)\n",
    "        pred = np.argmax(sigm)\n",
    "        preds.append(pred)\n",
    "    predicted_class = [classes[p] for p in preds]\n",
    "    return predicted_class"
   ]
  },
  {
   "cell_type": "code",
   "execution_count": null,
   "metadata": {},
   "outputs": [],
   "source": [
    "predicted_class = predict(thetas, classes, Xs_test)"
   ]
  },
  {
   "cell_type": "markdown",
   "metadata": {},
   "source": [
    "### Accuracy of logistic regression"
   ]
  },
  {
   "cell_type": "code",
   "execution_count": null,
   "metadata": {},
   "outputs": [],
   "source": [
    "(predicted_class==ys_test).mean()"
   ]
  },
  {
   "cell_type": "markdown",
   "metadata": {},
   "source": [
    "### Confusion matric for LR"
   ]
  },
  {
   "cell_type": "code",
   "execution_count": null,
   "metadata": {},
   "outputs": [],
   "source": [
    "conf_mat = confusion_matrix(ys_test, predicted_class)\n",
    "clr = classification_report(ys_test, predicted_class)\n",
    "print(conf_mat)\n",
    "print(clr)"
   ]
  },
  {
   "cell_type": "code",
   "execution_count": 604,
   "metadata": {},
   "outputs": [],
   "source": []
  },
  {
   "cell_type": "code",
   "execution_count": null,
   "metadata": {},
   "outputs": [],
   "source": []
  },
  {
   "cell_type": "code",
   "execution_count": null,
   "metadata": {},
   "outputs": [],
   "source": []
  },
  {
   "cell_type": "code",
   "execution_count": 606,
   "metadata": {},
   "outputs": [],
   "source": []
  },
  {
   "cell_type": "code",
   "execution_count": null,
   "metadata": {},
   "outputs": [],
   "source": []
  },
  {
   "cell_type": "code",
   "execution_count": null,
   "metadata": {},
   "outputs": [],
   "source": [
    "\n"
   ]
  },
  {
   "cell_type": "code",
   "execution_count": null,
   "metadata": {},
   "outputs": [],
   "source": []
  },
  {
   "cell_type": "code",
   "execution_count": 144,
   "metadata": {},
   "outputs": [],
   "source": []
  },
  {
   "cell_type": "code",
   "execution_count": null,
   "metadata": {},
   "outputs": [],
   "source": []
  },
  {
   "cell_type": "code",
   "execution_count": null,
   "metadata": {},
   "outputs": [],
   "source": []
  }
 ],
 "metadata": {
  "kernelspec": {
   "display_name": "Python 3",
   "language": "python",
   "name": "python3"
  },
  "language_info": {
   "codemirror_mode": {
    "name": "ipython",
    "version": 3
   },
   "file_extension": ".py",
   "mimetype": "text/x-python",
   "name": "python",
   "nbconvert_exporter": "python",
   "pygments_lexer": "ipython3",
   "version": "3.7.4"
  }
 },
 "nbformat": 4,
 "nbformat_minor": 2
}
